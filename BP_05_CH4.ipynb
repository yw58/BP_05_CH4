{
  "nbformat": 4,
  "nbformat_minor": 0,
  "metadata": {
    "colab": {
      "provenance": [],
      "authorship_tag": "ABX9TyOEfJ1I+f+g6IDyepGnQsfY",
      "include_colab_link": true
    },
    "kernelspec": {
      "name": "python3",
      "display_name": "Python 3"
    },
    "language_info": {
      "name": "python"
    }
  },
  "cells": [
    {
      "cell_type": "markdown",
      "metadata": {
        "id": "view-in-github",
        "colab_type": "text"
      },
      "source": [
        "<a href=\"https://colab.research.google.com/github/yw58/BP_05_CH4/blob/main/BP_05_CH4.ipynb\" target=\"_parent\"><img src=\"https://colab.research.google.com/assets/colab-badge.svg\" alt=\"Open In Colab\"/></a>"
      ]
    },
    {
      "cell_type": "code",
      "execution_count": null,
      "metadata": {
        "id": "WatU5a1pXEM5"
      },
      "outputs": [],
      "source": [
        "print('나는' + str(12) + '개의 사과를 먹었다.')"
      ]
    },
    {
      "cell_type": "code",
      "source": [
        "'apple'+'grape'\n",
        "'apple'* 3"
      ],
      "metadata": {
        "id": "A1vNJYs7f6w9"
      },
      "execution_count": null,
      "outputs": []
    },
    {
      "cell_type": "code",
      "source": [
        "str = input(\"문자열을 입력하시오:\")\n",
        "s=str[0:2] +str[-2:]\n",
        "\n",
        "print(s)"
      ],
      "metadata": {
        "id": "JL_kcuMUhPp1"
      },
      "execution_count": null,
      "outputs": []
    },
    {
      "cell_type": "code",
      "source": [
        "s=input(문자열을 입력하시오:\")\n",
        "s+=\"하는 중\"\n",
        "print(s)"
      ],
      "metadata": {
        "id": "Z3gBr9vOjqR0"
      },
      "execution_count": null,
      "outputs": []
    },
    {
      "cell_type": "code",
      "source": [
        "str=input(\"기호를 입력하시오\n",
        "woid=input(\"중간에 삽입할 문자열을 입력하시오;\")\n",
        "s=str(;1]+word+str[;])"
      ],
      "metadata": {
        "id": "3Tyx6i65mQkH"
      },
      "execution_count": null,
      "outputs": []
    }
  ]
}